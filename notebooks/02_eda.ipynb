{
 "cells": [
  {
   "cell_type": "markdown",
   "id": "114dc424",
   "metadata": {},
   "source": [
    "# Задача 1: Загрузка и первичный осмотр данных"
   ]
  },
  {
   "cell_type": "code",
   "execution_count": 13,
   "id": "6d0bbbbc",
   "metadata": {},
   "outputs": [
    {
     "name": "stdout",
     "output_type": "stream",
     "text": [
      "Тренировочный файл успешно загружен.\n"
     ]
    },
    {
     "data": {
      "text/plain": [
       "resolution                                                                      0\n",
       "brand_name                                                                  Momax\n",
       "description                     • Простое подключение: используйте приложение ...\n",
       "name_rus                        Метка GPS трекер для отслеживания Momax PinTag...\n",
       "CommercialTypeName4                                                    GPS трекер\n",
       "rating_1_count                                                                NaN\n",
       "rating_2_count                                                                NaN\n",
       "rating_3_count                                                                NaN\n",
       "rating_4_count                                                                NaN\n",
       "rating_5_count                                                                NaN\n",
       "comments_published_count                                                      NaN\n",
       "photos_published_count                                                        NaN\n",
       "videos_published_count                                                        NaN\n",
       "PriceDiscounted                                                        795.891958\n",
       "item_time_alive                                                                53\n",
       "item_count_fake_returns7                                                        0\n",
       "item_count_fake_returns30                                                       0\n",
       "item_count_fake_returns90                                                       0\n",
       "item_count_sales7                                                               0\n",
       "item_count_sales30                                                              0\n",
       "item_count_sales90                                                              0\n",
       "item_count_returns7                                                             0\n",
       "item_count_returns30                                                            0\n",
       "item_count_returns90                                                            0\n",
       "GmvTotal7                                                             1132.972534\n",
       "GmvTotal30                                                             1298.28346\n",
       "GmvTotal90                                                            1408.638137\n",
       "ExemplarAcceptedCountTotal7                                                  93.0\n",
       "ExemplarAcceptedCountTotal30                                                460.0\n",
       "ExemplarAcceptedCountTotal90                                               1316.0\n",
       "OrderAcceptedCountTotal7                                                     87.0\n",
       "OrderAcceptedCountTotal30                                                   423.0\n",
       "OrderAcceptedCountTotal90                                                  1209.0\n",
       "ExemplarReturnedCountTotal7                                                   4.0\n",
       "ExemplarReturnedCountTotal30                                                 17.0\n",
       "ExemplarReturnedCountTotal90                                                 57.0\n",
       "ExemplarReturnedValueTotal7                                             749.83691\n",
       "ExemplarReturnedValueTotal30                                           953.620321\n",
       "ExemplarReturnedValueTotal90                                          1070.921903\n",
       "ItemVarietyCount                                                              1.0\n",
       "ItemAvailableCount                                                            1.0\n",
       "seller_time_alive                                                          1360.0\n",
       "ItemID                                                                     192885\n",
       "SellerID                                                                    11988\n",
       "Name: 394396, dtype: object"
      ]
     },
     "metadata": {},
     "output_type": "display_data"
    }
   ],
   "source": [
    "import pandas as pd\n",
    "import numpy as np\n",
    "\n",
    "# Задаем опцию, чтобы видеть все столбцы в выводе\n",
    "pd.set_option('display.max_columns', None)\n",
    "\n",
    "# Загрузка данных\n",
    "file_folder = '../data/raw/'\n",
    "file_name = 'ml_ozon_сounterfeit_train.csv'\n",
    "file_path = file_folder + file_name \n",
    "try:\n",
    "    df_train = pd.read_csv(file_path, index_col=0)\n",
    "    print(\"Тренировочный файл успешно загружен.\")\n",
    "except FileNotFoundError:\n",
    "    print(f\"Ошибка: Файл не найден по пути '{file_path}'. Проверьте путь.\")\n",
    "\n",
    "if 'df_train' in locals():\n",
    "    display(df_train.loc[394396])\n",
    "    "
   ]
  }
 ],
 "metadata": {
  "kernelspec": {
   "display_name": ".venv",
   "language": "python",
   "name": "python3"
  },
  "language_info": {
   "codemirror_mode": {
    "name": "ipython",
    "version": 3
   },
   "file_extension": ".py",
   "mimetype": "text/x-python",
   "name": "python",
   "nbconvert_exporter": "python",
   "pygments_lexer": "ipython3",
   "version": "3.13.5"
  }
 },
 "nbformat": 4,
 "nbformat_minor": 5
}
